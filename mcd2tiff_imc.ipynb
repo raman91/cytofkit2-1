{
 "cells": [
  {
   "cell_type": "code",
   "execution_count": 2,
   "metadata": {},
   "outputs": [],
   "source": [
    "import os\n",
    "import scanpy as sc\n",
    "from matplotlib import rcParams\n",
    "\n",
    "os.chdir(r'/acrc/jinmiao/CJM_lab/Raman/Projects/hyperion_cytofkit2/covid_data/')"
   ]
  },
  {
   "cell_type": "code",
   "execution_count": 3,
   "metadata": {},
   "outputs": [],
   "source": [
    "fn_mcd1 = \"/acrc_raman/jinmiao/CJM_lab/Raman/Projects/hyperion_cytofkit2/covid_data/Raw_Data/20200610_ARDS_PNE19127.mcd\""
   ]
  },
  {
   "cell_type": "code",
   "execution_count": 5,
   "metadata": {},
   "outputs": [],
   "source": [
    "from imctools.io.mcd.mcdparser import McdParser"
   ]
  },
  {
   "cell_type": "code",
   "execution_count": 7,
   "metadata": {},
   "outputs": [],
   "source": [
    "parser = McdParser(fn_mcd1)"
   ]
  },
  {
   "cell_type": "code",
   "execution_count": 8,
   "metadata": {},
   "outputs": [],
   "source": [
    "xml = parser.get_mcd_xml()"
   ]
  },
  {
   "cell_type": "code",
   "execution_count": 9,
   "metadata": {},
   "outputs": [],
   "source": [
    "session = parser.session"
   ]
  },
  {
   "cell_type": "code",
   "execution_count": 10,
   "metadata": {},
   "outputs": [],
   "source": [
    "ids = parser.session.acquisition_ids"
   ]
  },
  {
   "cell_type": "code",
   "execution_count": 11,
   "metadata": {},
   "outputs": [
    {
     "data": {
      "text/plain": [
       "(1, 2, 3, 4, 5, 6, 7, 8, 9, 10, 11, 12, 13, 14, 15)"
      ]
     },
     "execution_count": 11,
     "metadata": {},
     "output_type": "execute_result"
    }
   ],
   "source": [
    "ids"
   ]
  },
  {
   "cell_type": "code",
   "execution_count": 12,
   "metadata": {},
   "outputs": [],
   "source": [
    "ac_data = parser.get_acquisition_data(1)"
   ]
  },
  {
   "cell_type": "code",
   "execution_count": 13,
   "metadata": {},
   "outputs": [
    {
     "data": {
      "text/plain": [
       "AcquisitionData(acquisition=Acquisition(id=1, description=ROI_001))"
      ]
     },
     "execution_count": 13,
     "metadata": {},
     "output_type": "execute_result"
    }
   ],
   "source": [
    "ac_data"
   ]
  },
  {
   "cell_type": "code",
   "execution_count": 14,
   "metadata": {},
   "outputs": [
    {
     "data": {
      "text/plain": [
       "['80ArAr',\n",
       " 'HistoneH3',\n",
       " '129Xe',\n",
       " 'Alpha_SMA',\n",
       " 'iNOS',\n",
       " 'cKIT',\n",
       " 'CD206',\n",
       " 'TTF1',\n",
       " 'CD16',\n",
       " 'CD163',\n",
       " 'CD14',\n",
       " 'CD11b',\n",
       " 'CD68',\n",
       " 'CD31',\n",
       " 'CD45',\n",
       " 'SARS_CoV2_S1',\n",
       " 'Vimentin',\n",
       " 'C5b_C9',\n",
       " 'CD4',\n",
       " 'pSTAT3',\n",
       " 'CD56',\n",
       " 'IL6',\n",
       " 'CD20',\n",
       " 'CD8a',\n",
       " 'CD15',\n",
       " 'Arginase_1',\n",
       " 'pCREB',\n",
       " 'IL_1beta',\n",
       " 'CD123',\n",
       " 'Ki67',\n",
       " 'Collagen_Type_I',\n",
       " 'CD3',\n",
       " 'CD57',\n",
       " 'Cleaved_Caspase_3',\n",
       " 'MPO',\n",
       " 'Keratin8_18',\n",
       " 'Mast_Cell_Tryptase',\n",
       " 'CD11c',\n",
       " '190BCKG',\n",
       " 'DNA1',\n",
       " 'DNA2']"
      ]
     },
     "execution_count": 14,
     "metadata": {},
     "output_type": "execute_result"
    }
   ],
   "source": [
    "ls_labels = ac_data._acquisition.channel_labels\n",
    "ls_labels = [lab for lab in ls_labels if lab is not None]\n",
    "ls_labels"
   ]
  },
  {
   "cell_type": "code",
   "execution_count": 15,
   "metadata": {},
   "outputs": [],
   "source": [
    "fn_out ='20200609_ARDS_1921_test.tiff'"
   ]
  },
  {
   "cell_type": "code",
   "execution_count": 16,
   "metadata": {},
   "outputs": [
    {
     "name": "stderr",
     "output_type": "stream",
     "text": [
      "/scbio4/home/raman/anaconda3/lib/python3.7/site-packages/xtiff/tiff.py:96: UserWarning: The specified OME-TIFF file name does not end with .ome.tiff: 20200609_ARDS_1921_test.tiff\n",
      "  warnings.warn('The specified OME-TIFF file name does not end with .ome.tiff: {}'.format(file))\n"
     ]
    }
   ],
   "source": [
    "ac_data.save_ome_tiff(fn_out, names=['In113','In115','Xe129','Pr141','Nd142','Nd143','Nd144','Nd145','Nd146','Sm147','Nd148','Sm149','Nd150','Eu151','Sm152','Eu153','Sm154','Gd155','Gd156','Gd158','Tb159','Ir191', 'Yb172'])"
   ]
  },
  {
   "cell_type": "code",
   "execution_count": null,
   "metadata": {},
   "outputs": [],
   "source": []
  }
 ],
 "metadata": {
  "kernelspec": {
   "display_name": "Python 3",
   "language": "python",
   "name": "python3"
  },
  "language_info": {
   "codemirror_mode": {
    "name": "ipython",
    "version": 3
   },
   "file_extension": ".py",
   "mimetype": "text/x-python",
   "name": "python",
   "nbconvert_exporter": "python",
   "pygments_lexer": "ipython3",
   "version": "3.7.6"
  }
 },
 "nbformat": 4,
 "nbformat_minor": 4
}
